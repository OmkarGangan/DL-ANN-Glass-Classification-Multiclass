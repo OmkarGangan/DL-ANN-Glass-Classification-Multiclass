{
  "nbformat": 4,
  "nbformat_minor": 0,
  "metadata": {
    "colab": {
      "name": "Glass Multiclass Classification.ipynb",
      "provenance": [],
      "collapsed_sections": []
    },
    "kernelspec": {
      "name": "python3",
      "display_name": "Python 3"
    },
    "language_info": {
      "name": "python"
    }
  },
  "cells": [
    {
      "cell_type": "markdown",
      "metadata": {
        "id": "I8f2yy9gLbV_"
      },
      "source": [
        "# Import Libraries"
      ]
    },
    {
      "cell_type": "code",
      "metadata": {
        "id": "tBlQpkPPKkK1"
      },
      "source": [
        "import pandas as pd\n",
        "import numpy as np\n",
        "import matplotlib.pyplot as plt\n",
        "import tensorflow as tf\n",
        "import seaborn as sns\n",
        "from sklearn.model_selection import train_test_split\n",
        "from sklearn.preprocessing import StandardScaler"
      ],
      "execution_count": 6,
      "outputs": []
    },
    {
      "cell_type": "code",
      "metadata": {
        "id": "yZfuTIbTMae3"
      },
      "source": [
        "import warnings \n",
        "warnings.filterwarnings('ignore')"
      ],
      "execution_count": 7,
      "outputs": []
    },
    {
      "cell_type": "markdown",
      "metadata": {
        "id": "137_IoAELdro"
      },
      "source": [
        "# Read data"
      ]
    },
    {
      "cell_type": "code",
      "metadata": {
        "id": "kJjDqYa-KmoU"
      },
      "source": [
        "df = pd.read_csv('/content/drive/MyDrive/Itvedant class/Itvedant Home work/glass.csv')"
      ],
      "execution_count": 8,
      "outputs": []
    },
    {
      "cell_type": "markdown",
      "metadata": {
        "id": "w-SDW3wiLfco"
      },
      "source": [
        "# Data Inspection"
      ]
    },
    {
      "cell_type": "code",
      "metadata": {
        "colab": {
          "base_uri": "https://localhost:8080/",
          "height": 202
        },
        "id": "PsWhx10eLYLb",
        "outputId": "d9acb331-2de9-4418-95f6-80f83a105a53"
      },
      "source": [
        "df.head()"
      ],
      "execution_count": 9,
      "outputs": [
        {
          "output_type": "execute_result",
          "data": {
            "text/html": [
              "<div>\n",
              "<style scoped>\n",
              "    .dataframe tbody tr th:only-of-type {\n",
              "        vertical-align: middle;\n",
              "    }\n",
              "\n",
              "    .dataframe tbody tr th {\n",
              "        vertical-align: top;\n",
              "    }\n",
              "\n",
              "    .dataframe thead th {\n",
              "        text-align: right;\n",
              "    }\n",
              "</style>\n",
              "<table border=\"1\" class=\"dataframe\">\n",
              "  <thead>\n",
              "    <tr style=\"text-align: right;\">\n",
              "      <th></th>\n",
              "      <th>RI</th>\n",
              "      <th>Na</th>\n",
              "      <th>Mg</th>\n",
              "      <th>Al</th>\n",
              "      <th>Si</th>\n",
              "      <th>K</th>\n",
              "      <th>Ca</th>\n",
              "      <th>Ba</th>\n",
              "      <th>Fe</th>\n",
              "      <th>Type</th>\n",
              "    </tr>\n",
              "  </thead>\n",
              "  <tbody>\n",
              "    <tr>\n",
              "      <th>0</th>\n",
              "      <td>1.52101</td>\n",
              "      <td>13.64</td>\n",
              "      <td>4.49</td>\n",
              "      <td>1.10</td>\n",
              "      <td>71.78</td>\n",
              "      <td>0.06</td>\n",
              "      <td>8.75</td>\n",
              "      <td>0.0</td>\n",
              "      <td>0.0</td>\n",
              "      <td>1</td>\n",
              "    </tr>\n",
              "    <tr>\n",
              "      <th>1</th>\n",
              "      <td>1.51761</td>\n",
              "      <td>13.89</td>\n",
              "      <td>3.60</td>\n",
              "      <td>1.36</td>\n",
              "      <td>72.73</td>\n",
              "      <td>0.48</td>\n",
              "      <td>7.83</td>\n",
              "      <td>0.0</td>\n",
              "      <td>0.0</td>\n",
              "      <td>1</td>\n",
              "    </tr>\n",
              "    <tr>\n",
              "      <th>2</th>\n",
              "      <td>1.51618</td>\n",
              "      <td>13.53</td>\n",
              "      <td>3.55</td>\n",
              "      <td>1.54</td>\n",
              "      <td>72.99</td>\n",
              "      <td>0.39</td>\n",
              "      <td>7.78</td>\n",
              "      <td>0.0</td>\n",
              "      <td>0.0</td>\n",
              "      <td>1</td>\n",
              "    </tr>\n",
              "    <tr>\n",
              "      <th>3</th>\n",
              "      <td>1.51766</td>\n",
              "      <td>13.21</td>\n",
              "      <td>3.69</td>\n",
              "      <td>1.29</td>\n",
              "      <td>72.61</td>\n",
              "      <td>0.57</td>\n",
              "      <td>8.22</td>\n",
              "      <td>0.0</td>\n",
              "      <td>0.0</td>\n",
              "      <td>1</td>\n",
              "    </tr>\n",
              "    <tr>\n",
              "      <th>4</th>\n",
              "      <td>1.51742</td>\n",
              "      <td>13.27</td>\n",
              "      <td>3.62</td>\n",
              "      <td>1.24</td>\n",
              "      <td>73.08</td>\n",
              "      <td>0.55</td>\n",
              "      <td>8.07</td>\n",
              "      <td>0.0</td>\n",
              "      <td>0.0</td>\n",
              "      <td>1</td>\n",
              "    </tr>\n",
              "  </tbody>\n",
              "</table>\n",
              "</div>"
            ],
            "text/plain": [
              "        RI     Na    Mg    Al     Si     K    Ca   Ba   Fe  Type\n",
              "0  1.52101  13.64  4.49  1.10  71.78  0.06  8.75  0.0  0.0     1\n",
              "1  1.51761  13.89  3.60  1.36  72.73  0.48  7.83  0.0  0.0     1\n",
              "2  1.51618  13.53  3.55  1.54  72.99  0.39  7.78  0.0  0.0     1\n",
              "3  1.51766  13.21  3.69  1.29  72.61  0.57  8.22  0.0  0.0     1\n",
              "4  1.51742  13.27  3.62  1.24  73.08  0.55  8.07  0.0  0.0     1"
            ]
          },
          "metadata": {
            "tags": []
          },
          "execution_count": 9
        }
      ]
    },
    {
      "cell_type": "code",
      "metadata": {
        "colab": {
          "base_uri": "https://localhost:8080/"
        },
        "id": "De5zqCzeLZu8",
        "outputId": "4c7b8b33-0e43-41cf-d65d-250cfd55629a"
      },
      "source": [
        "df.shape"
      ],
      "execution_count": 10,
      "outputs": [
        {
          "output_type": "execute_result",
          "data": {
            "text/plain": [
              "(214, 10)"
            ]
          },
          "metadata": {
            "tags": []
          },
          "execution_count": 10
        }
      ]
    },
    {
      "cell_type": "code",
      "metadata": {
        "colab": {
          "base_uri": "https://localhost:8080/"
        },
        "id": "IIkSbsQ0LjDF",
        "outputId": "536e3df3-fc3e-413f-f354-f14b68b5a510"
      },
      "source": [
        "df.info()"
      ],
      "execution_count": 11,
      "outputs": [
        {
          "output_type": "stream",
          "text": [
            "<class 'pandas.core.frame.DataFrame'>\n",
            "RangeIndex: 214 entries, 0 to 213\n",
            "Data columns (total 10 columns):\n",
            " #   Column  Non-Null Count  Dtype  \n",
            "---  ------  --------------  -----  \n",
            " 0   RI      214 non-null    float64\n",
            " 1   Na      214 non-null    float64\n",
            " 2   Mg      214 non-null    float64\n",
            " 3   Al      214 non-null    float64\n",
            " 4   Si      214 non-null    float64\n",
            " 5   K       214 non-null    float64\n",
            " 6   Ca      214 non-null    float64\n",
            " 7   Ba      214 non-null    float64\n",
            " 8   Fe      214 non-null    float64\n",
            " 9   Type    214 non-null    int64  \n",
            "dtypes: float64(9), int64(1)\n",
            "memory usage: 16.8 KB\n"
          ],
          "name": "stdout"
        }
      ]
    },
    {
      "cell_type": "code",
      "metadata": {
        "colab": {
          "base_uri": "https://localhost:8080/",
          "height": 356
        },
        "id": "NuDBA_VZLsHn",
        "outputId": "1e0aee7d-f21a-46ba-efd6-c55709b497cf"
      },
      "source": [
        "df.describe().T"
      ],
      "execution_count": 12,
      "outputs": [
        {
          "output_type": "execute_result",
          "data": {
            "text/html": [
              "<div>\n",
              "<style scoped>\n",
              "    .dataframe tbody tr th:only-of-type {\n",
              "        vertical-align: middle;\n",
              "    }\n",
              "\n",
              "    .dataframe tbody tr th {\n",
              "        vertical-align: top;\n",
              "    }\n",
              "\n",
              "    .dataframe thead th {\n",
              "        text-align: right;\n",
              "    }\n",
              "</style>\n",
              "<table border=\"1\" class=\"dataframe\">\n",
              "  <thead>\n",
              "    <tr style=\"text-align: right;\">\n",
              "      <th></th>\n",
              "      <th>count</th>\n",
              "      <th>mean</th>\n",
              "      <th>std</th>\n",
              "      <th>min</th>\n",
              "      <th>25%</th>\n",
              "      <th>50%</th>\n",
              "      <th>75%</th>\n",
              "      <th>max</th>\n",
              "    </tr>\n",
              "  </thead>\n",
              "  <tbody>\n",
              "    <tr>\n",
              "      <th>RI</th>\n",
              "      <td>214.0</td>\n",
              "      <td>1.518365</td>\n",
              "      <td>0.003037</td>\n",
              "      <td>1.51115</td>\n",
              "      <td>1.516523</td>\n",
              "      <td>1.51768</td>\n",
              "      <td>1.519157</td>\n",
              "      <td>1.53393</td>\n",
              "    </tr>\n",
              "    <tr>\n",
              "      <th>Na</th>\n",
              "      <td>214.0</td>\n",
              "      <td>13.407850</td>\n",
              "      <td>0.816604</td>\n",
              "      <td>10.73000</td>\n",
              "      <td>12.907500</td>\n",
              "      <td>13.30000</td>\n",
              "      <td>13.825000</td>\n",
              "      <td>17.38000</td>\n",
              "    </tr>\n",
              "    <tr>\n",
              "      <th>Mg</th>\n",
              "      <td>214.0</td>\n",
              "      <td>2.684533</td>\n",
              "      <td>1.442408</td>\n",
              "      <td>0.00000</td>\n",
              "      <td>2.115000</td>\n",
              "      <td>3.48000</td>\n",
              "      <td>3.600000</td>\n",
              "      <td>4.49000</td>\n",
              "    </tr>\n",
              "    <tr>\n",
              "      <th>Al</th>\n",
              "      <td>214.0</td>\n",
              "      <td>1.444907</td>\n",
              "      <td>0.499270</td>\n",
              "      <td>0.29000</td>\n",
              "      <td>1.190000</td>\n",
              "      <td>1.36000</td>\n",
              "      <td>1.630000</td>\n",
              "      <td>3.50000</td>\n",
              "    </tr>\n",
              "    <tr>\n",
              "      <th>Si</th>\n",
              "      <td>214.0</td>\n",
              "      <td>72.650935</td>\n",
              "      <td>0.774546</td>\n",
              "      <td>69.81000</td>\n",
              "      <td>72.280000</td>\n",
              "      <td>72.79000</td>\n",
              "      <td>73.087500</td>\n",
              "      <td>75.41000</td>\n",
              "    </tr>\n",
              "    <tr>\n",
              "      <th>K</th>\n",
              "      <td>214.0</td>\n",
              "      <td>0.497056</td>\n",
              "      <td>0.652192</td>\n",
              "      <td>0.00000</td>\n",
              "      <td>0.122500</td>\n",
              "      <td>0.55500</td>\n",
              "      <td>0.610000</td>\n",
              "      <td>6.21000</td>\n",
              "    </tr>\n",
              "    <tr>\n",
              "      <th>Ca</th>\n",
              "      <td>214.0</td>\n",
              "      <td>8.956963</td>\n",
              "      <td>1.423153</td>\n",
              "      <td>5.43000</td>\n",
              "      <td>8.240000</td>\n",
              "      <td>8.60000</td>\n",
              "      <td>9.172500</td>\n",
              "      <td>16.19000</td>\n",
              "    </tr>\n",
              "    <tr>\n",
              "      <th>Ba</th>\n",
              "      <td>214.0</td>\n",
              "      <td>0.175047</td>\n",
              "      <td>0.497219</td>\n",
              "      <td>0.00000</td>\n",
              "      <td>0.000000</td>\n",
              "      <td>0.00000</td>\n",
              "      <td>0.000000</td>\n",
              "      <td>3.15000</td>\n",
              "    </tr>\n",
              "    <tr>\n",
              "      <th>Fe</th>\n",
              "      <td>214.0</td>\n",
              "      <td>0.057009</td>\n",
              "      <td>0.097439</td>\n",
              "      <td>0.00000</td>\n",
              "      <td>0.000000</td>\n",
              "      <td>0.00000</td>\n",
              "      <td>0.100000</td>\n",
              "      <td>0.51000</td>\n",
              "    </tr>\n",
              "    <tr>\n",
              "      <th>Type</th>\n",
              "      <td>214.0</td>\n",
              "      <td>2.780374</td>\n",
              "      <td>2.103739</td>\n",
              "      <td>1.00000</td>\n",
              "      <td>1.000000</td>\n",
              "      <td>2.00000</td>\n",
              "      <td>3.000000</td>\n",
              "      <td>7.00000</td>\n",
              "    </tr>\n",
              "  </tbody>\n",
              "</table>\n",
              "</div>"
            ],
            "text/plain": [
              "      count       mean       std  ...       50%        75%       max\n",
              "RI    214.0   1.518365  0.003037  ...   1.51768   1.519157   1.53393\n",
              "Na    214.0  13.407850  0.816604  ...  13.30000  13.825000  17.38000\n",
              "Mg    214.0   2.684533  1.442408  ...   3.48000   3.600000   4.49000\n",
              "Al    214.0   1.444907  0.499270  ...   1.36000   1.630000   3.50000\n",
              "Si    214.0  72.650935  0.774546  ...  72.79000  73.087500  75.41000\n",
              "K     214.0   0.497056  0.652192  ...   0.55500   0.610000   6.21000\n",
              "Ca    214.0   8.956963  1.423153  ...   8.60000   9.172500  16.19000\n",
              "Ba    214.0   0.175047  0.497219  ...   0.00000   0.000000   3.15000\n",
              "Fe    214.0   0.057009  0.097439  ...   0.00000   0.100000   0.51000\n",
              "Type  214.0   2.780374  2.103739  ...   2.00000   3.000000   7.00000\n",
              "\n",
              "[10 rows x 8 columns]"
            ]
          },
          "metadata": {
            "tags": []
          },
          "execution_count": 12
        }
      ]
    },
    {
      "cell_type": "markdown",
      "metadata": {
        "id": "sHCPr4yUL1uh"
      },
      "source": [
        "# Checking Null Values"
      ]
    },
    {
      "cell_type": "code",
      "metadata": {
        "colab": {
          "base_uri": "https://localhost:8080/"
        },
        "id": "ngYQ3WhULwqv",
        "outputId": "10102524-627b-4b63-f295-19cd1160dc6c"
      },
      "source": [
        "df.isna().sum()"
      ],
      "execution_count": 13,
      "outputs": [
        {
          "output_type": "execute_result",
          "data": {
            "text/plain": [
              "RI      0\n",
              "Na      0\n",
              "Mg      0\n",
              "Al      0\n",
              "Si      0\n",
              "K       0\n",
              "Ca      0\n",
              "Ba      0\n",
              "Fe      0\n",
              "Type    0\n",
              "dtype: int64"
            ]
          },
          "metadata": {
            "tags": []
          },
          "execution_count": 13
        }
      ]
    },
    {
      "cell_type": "markdown",
      "metadata": {
        "id": "zIMorINaM-FR"
      },
      "source": [
        "# CHecking Skweness"
      ]
    },
    {
      "cell_type": "code",
      "metadata": {
        "colab": {
          "base_uri": "https://localhost:8080/",
          "height": 681
        },
        "id": "GegwUAR5MXrR",
        "outputId": "b5db3623-4404-431b-d270-b848c435cf29"
      },
      "source": [
        "i = 1\n",
        "plt.figure(figsize=(20,15))\n",
        "for x in df.columns:\n",
        "  plt.subplot(4,4,i)\n",
        "  plt.title(x)\n",
        "  sns.distplot(df[x])\n",
        "  i+=1"
      ],
      "execution_count": 15,
      "outputs": [
        {
          "output_type": "display_data",
          "data": {
            "image/png": "[encoded data removed]",
            "text/plain": [
              "<Figure size 1440x1080 with 10 Axes>"
            ]
          },
          "metadata": {
            "tags": [],
            "needs_background": "light"
          }
        }
      ]
    },
    {
      "cell_type": "code",
      "metadata": {
        "id": "wgM6qjVZyLyd"
      },
      "source": [
        ""
      ],
      "execution_count": 15,
      "outputs": []
    },
    {
      "cell_type": "markdown",
      "metadata": {
        "id": "wowEEqbqNicE"
      },
      "source": [
        "# Create X and Y"
      ]
    },
    {
      "cell_type": "code",
      "metadata": {
        "id": "W8fZS5jfNBnw"
      },
      "source": [
        "X = df.drop('Type',axis=1)\n",
        "X = np.cbrt(X) # Cube root transformation to handle skewness"
      ],
      "execution_count": 16,
      "outputs": []
    },
    {
      "cell_type": "code",
      "metadata": {
        "id": "7egR4yhjNmw9"
      },
      "source": [
        "Y = df.Type"
      ],
      "execution_count": 17,
      "outputs": []
    },
    {
      "cell_type": "code",
      "metadata": {
        "colab": {
          "base_uri": "https://localhost:8080/",
          "height": 415
        },
        "id": "Ap9hXw0LylEy",
        "outputId": "0888af71-2369-43f8-a7f8-451718f075ad"
      },
      "source": [
        "X"
      ],
      "execution_count": 18,
      "outputs": [
        {
          "output_type": "execute_result",
          "data": {
            "text/html": [
              "<div>\n",
              "<style scoped>\n",
              "    .dataframe tbody tr th:only-of-type {\n",
              "        vertical-align: middle;\n",
              "    }\n",
              "\n",
              "    .dataframe tbody tr th {\n",
              "        vertical-align: top;\n",
              "    }\n",
              "\n",
              "    .dataframe thead th {\n",
              "        text-align: right;\n",
              "    }\n",
              "</style>\n",
              "<table border=\"1\" class=\"dataframe\">\n",
              "  <thead>\n",
              "    <tr style=\"text-align: right;\">\n",
              "      <th></th>\n",
              "      <th>RI</th>\n",
              "      <th>Na</th>\n",
              "      <th>Mg</th>\n",
              "      <th>Al</th>\n",
              "      <th>Si</th>\n",
              "      <th>K</th>\n",
              "      <th>Ca</th>\n",
              "      <th>Ba</th>\n",
              "      <th>Fe</th>\n",
              "    </tr>\n",
              "  </thead>\n",
              "  <tbody>\n",
              "    <tr>\n",
              "      <th>0</th>\n",
              "      <td>1.150034</td>\n",
              "      <td>2.389304</td>\n",
              "      <td>1.649740</td>\n",
              "      <td>1.032280</td>\n",
              "      <td>4.155926</td>\n",
              "      <td>0.391487</td>\n",
              "      <td>2.060643</td>\n",
              "      <td>0.000000</td>\n",
              "      <td>0.0</td>\n",
              "    </tr>\n",
              "    <tr>\n",
              "      <th>1</th>\n",
              "      <td>1.149176</td>\n",
              "      <td>2.403813</td>\n",
              "      <td>1.532619</td>\n",
              "      <td>1.107932</td>\n",
              "      <td>4.174180</td>\n",
              "      <td>0.782974</td>\n",
              "      <td>1.985732</td>\n",
              "      <td>0.000000</td>\n",
              "      <td>0.0</td>\n",
              "    </tr>\n",
              "    <tr>\n",
              "      <th>2</th>\n",
              "      <td>1.148815</td>\n",
              "      <td>2.382864</td>\n",
              "      <td>1.525490</td>\n",
              "      <td>1.154800</td>\n",
              "      <td>4.179148</td>\n",
              "      <td>0.730614</td>\n",
              "      <td>1.981496</td>\n",
              "      <td>0.000000</td>\n",
              "      <td>0.0</td>\n",
              "    </tr>\n",
              "    <tr>\n",
              "      <th>3</th>\n",
              "      <td>1.149189</td>\n",
              "      <td>2.363928</td>\n",
              "      <td>1.545286</td>\n",
              "      <td>1.088587</td>\n",
              "      <td>4.171883</td>\n",
              "      <td>0.829134</td>\n",
              "      <td>2.018168</td>\n",
              "      <td>0.000000</td>\n",
              "      <td>0.0</td>\n",
              "    </tr>\n",
              "    <tr>\n",
              "      <th>4</th>\n",
              "      <td>1.149129</td>\n",
              "      <td>2.367502</td>\n",
              "      <td>1.535452</td>\n",
              "      <td>1.074337</td>\n",
              "      <td>4.180865</td>\n",
              "      <td>0.819321</td>\n",
              "      <td>2.005816</td>\n",
              "      <td>0.000000</td>\n",
              "      <td>0.0</td>\n",
              "    </tr>\n",
              "    <tr>\n",
              "      <th>...</th>\n",
              "      <td>...</td>\n",
              "      <td>...</td>\n",
              "      <td>...</td>\n",
              "      <td>...</td>\n",
              "      <td>...</td>\n",
              "      <td>...</td>\n",
              "      <td>...</td>\n",
              "      <td>...</td>\n",
              "      <td>...</td>\n",
              "    </tr>\n",
              "    <tr>\n",
              "      <th>209</th>\n",
              "      <td>1.148828</td>\n",
              "      <td>2.418149</td>\n",
              "      <td>0.000000</td>\n",
              "      <td>1.422757</td>\n",
              "      <td>4.171883</td>\n",
              "      <td>0.430887</td>\n",
              "      <td>2.093860</td>\n",
              "      <td>1.019613</td>\n",
              "      <td>0.0</td>\n",
              "    </tr>\n",
              "    <tr>\n",
              "      <th>210</th>\n",
              "      <td>1.148985</td>\n",
              "      <td>2.461820</td>\n",
              "      <td>0.000000</td>\n",
              "      <td>1.257818</td>\n",
              "      <td>4.180484</td>\n",
              "      <td>0.000000</td>\n",
              "      <td>2.032793</td>\n",
              "      <td>1.167165</td>\n",
              "      <td>0.0</td>\n",
              "    </tr>\n",
              "    <tr>\n",
              "      <th>211</th>\n",
              "      <td>1.149943</td>\n",
              "      <td>2.430626</td>\n",
              "      <td>0.000000</td>\n",
              "      <td>1.264107</td>\n",
              "      <td>4.187339</td>\n",
              "      <td>0.000000</td>\n",
              "      <td>2.036014</td>\n",
              "      <td>1.179274</td>\n",
              "      <td>0.0</td>\n",
              "    </tr>\n",
              "    <tr>\n",
              "      <th>212</th>\n",
              "      <td>1.148899</td>\n",
              "      <td>2.431754</td>\n",
              "      <td>0.000000</td>\n",
              "      <td>1.247194</td>\n",
              "      <td>4.190948</td>\n",
              "      <td>0.000000</td>\n",
              "      <td>2.039226</td>\n",
              "      <td>1.162251</td>\n",
              "      <td>0.0</td>\n",
              "    </tr>\n",
              "    <tr>\n",
              "      <th>213</th>\n",
              "      <td>1.149050</td>\n",
              "      <td>2.423269</td>\n",
              "      <td>0.000000</td>\n",
              "      <td>1.276501</td>\n",
              "      <td>4.186198</td>\n",
              "      <td>0.000000</td>\n",
              "      <td>2.050387</td>\n",
              "      <td>1.186421</td>\n",
              "      <td>0.0</td>\n",
              "    </tr>\n",
              "  </tbody>\n",
              "</table>\n",
              "<p>214 rows × 9 columns</p>\n",
              "</div>"
            ],
            "text/plain": [
              "           RI        Na        Mg        Al  ...         K        Ca        Ba   Fe\n",
              "0    1.150034  2.389304  1.649740  1.032280  ...  0.391487  2.060643  0.000000  0.0\n",
              "1    1.149176  2.403813  1.532619  1.107932  ...  0.782974  1.985732  0.000000  0.0\n",
              "2    1.148815  2.382864  1.525490  1.154800  ...  0.730614  1.981496  0.000000  0.0\n",
              "3    1.149189  2.363928  1.545286  1.088587  ...  0.829134  2.018168  0.000000  0.0\n",
              "4    1.149129  2.367502  1.535452  1.074337  ...  0.819321  2.005816  0.000000  0.0\n",
              "..        ...       ...       ...       ...  ...       ...       ...       ...  ...\n",
              "209  1.148828  2.418149  0.000000  1.422757  ...  0.430887  2.093860  1.019613  0.0\n",
              "210  1.148985  2.461820  0.000000  1.257818  ...  0.000000  2.032793  1.167165  0.0\n",
              "211  1.149943  2.430626  0.000000  1.264107  ...  0.000000  2.036014  1.179274  0.0\n",
              "212  1.148899  2.431754  0.000000  1.247194  ...  0.000000  2.039226  1.162251  0.0\n",
              "213  1.149050  2.423269  0.000000  1.276501  ...  0.000000  2.050387  1.186421  0.0\n",
              "\n",
              "[214 rows x 9 columns]"
            ]
          },
          "metadata": {
            "tags": []
          },
          "execution_count": 18
        }
      ]
    },
    {
      "cell_type": "markdown",
      "metadata": {
        "id": "TwuPYn8xP78T"
      },
      "source": [
        "# Label Encoding Y"
      ]
    },
    {
      "cell_type": "code",
      "metadata": {
        "colab": {
          "base_uri": "https://localhost:8080/"
        },
        "id": "v7Kz3yI8QAHk",
        "outputId": "0093ae75-11c5-46e1-fefa-eb5815bde127"
      },
      "source": [
        "Y.value_counts()"
      ],
      "execution_count": 19,
      "outputs": [
        {
          "output_type": "execute_result",
          "data": {
            "text/plain": [
              "2    76\n",
              "1    70\n",
              "7    29\n",
              "3    17\n",
              "5    13\n",
              "6     9\n",
              "Name: Type, dtype: int64"
            ]
          },
          "metadata": {
            "tags": []
          },
          "execution_count": 19
        }
      ]
    },
    {
      "cell_type": "code",
      "metadata": {
        "id": "dbKTTPPxQEGp"
      },
      "source": [
        "Y = Y.map({1:0,2:1,3:2,5:3,6:4,7:5})"
      ],
      "execution_count": 20,
      "outputs": []
    },
    {
      "cell_type": "markdown",
      "metadata": {
        "id": "LSF7biYCNpSl"
      },
      "source": [
        "# Scaling"
      ]
    },
    {
      "cell_type": "code",
      "metadata": {
        "id": "oPLvrB7GTsrX"
      },
      "source": [
        "X_train,X_test,y_train,y_test = train_test_split(X,Y,test_size=0.2,random_state=1,stratify=Y)"
      ],
      "execution_count": 21,
      "outputs": []
    },
    {
      "cell_type": "code",
      "metadata": {
        "id": "xjLYtV-TNofK"
      },
      "source": [
        "ss = StandardScaler()\n",
        "X_train_ss = ss.fit_transform(X_train)\n",
        "X_test_ss = ss.transform(X_test)"
      ],
      "execution_count": 22,
      "outputs": []
    },
    {
      "cell_type": "code",
      "metadata": {
        "colab": {
          "base_uri": "https://localhost:8080/"
        },
        "id": "8nR5KED_NyUc",
        "outputId": "f305bf63-5b4e-4db3-e9db-7570f332b399"
      },
      "source": [
        "X.shape[1]"
      ],
      "execution_count": 23,
      "outputs": [
        {
          "output_type": "execute_result",
          "data": {
            "text/plain": [
              "9"
            ]
          },
          "metadata": {
            "tags": []
          },
          "execution_count": 23
        }
      ]
    },
    {
      "cell_type": "code",
      "metadata": {
        "colab": {
          "base_uri": "https://localhost:8080/"
        },
        "id": "cgu26QZ2RyX4",
        "outputId": "b4b04eeb-6195-4a10-c510-9e0d6740c8ad"
      },
      "source": [
        "Y.value_counts()"
      ],
      "execution_count": 24,
      "outputs": [
        {
          "output_type": "execute_result",
          "data": {
            "text/plain": [
              "1    76\n",
              "0    70\n",
              "5    29\n",
              "2    17\n",
              "3    13\n",
              "4     9\n",
              "Name: Type, dtype: int64"
            ]
          },
          "metadata": {
            "tags": []
          },
          "execution_count": 24
        }
      ]
    },
    {
      "cell_type": "code",
      "metadata": {
        "colab": {
          "base_uri": "https://localhost:8080/"
        },
        "id": "hh6ox_tCPW9u",
        "outputId": "f92560cb-50d6-4c2b-d472-8e4c6ff6f63f"
      },
      "source": [
        "X_test_ss.shape"
      ],
      "execution_count": 25,
      "outputs": [
        {
          "output_type": "execute_result",
          "data": {
            "text/plain": [
              "(43, 9)"
            ]
          },
          "metadata": {
            "tags": []
          },
          "execution_count": 25
        }
      ]
    },
    {
      "cell_type": "code",
      "metadata": {
        "colab": {
          "base_uri": "https://localhost:8080/"
        },
        "id": "vHbiYpaIPgyk",
        "outputId": "61a1d834-8f2a-4901-e22e-76c3dbfc6337"
      },
      "source": [
        "y_train.value_counts()"
      ],
      "execution_count": 26,
      "outputs": [
        {
          "output_type": "execute_result",
          "data": {
            "text/plain": [
              "1    61\n",
              "0    56\n",
              "5    23\n",
              "2    14\n",
              "3    10\n",
              "4     7\n",
              "Name: Type, dtype: int64"
            ]
          },
          "metadata": {
            "tags": []
          },
          "execution_count": 26
        }
      ]
    },
    {
      "cell_type": "code",
      "metadata": {
        "colab": {
          "base_uri": "https://localhost:8080/"
        },
        "id": "hF2HvOxEPno_",
        "outputId": "3d797e04-8d67-4b56-bcc8-60deecc23ac6"
      },
      "source": [
        "y_test.value_counts()"
      ],
      "execution_count": 27,
      "outputs": [
        {
          "output_type": "execute_result",
          "data": {
            "text/plain": [
              "1    15\n",
              "0    14\n",
              "5     6\n",
              "3     3\n",
              "2     3\n",
              "4     2\n",
              "Name: Type, dtype: int64"
            ]
          },
          "metadata": {
            "tags": []
          },
          "execution_count": 27
        }
      ]
    },
    {
      "cell_type": "markdown",
      "metadata": {
        "id": "G4uqYj3CN2Jw"
      },
      "source": [
        "# Neural Network"
      ]
    },
    {
      "cell_type": "code",
      "metadata": {
        "id": "tHS-u5tdNzv9"
      },
      "source": [
        "from tensorflow.keras.models import Sequential\n",
        "from tensorflow.keras.layers import Dense,Dropout"
      ],
      "execution_count": 28,
      "outputs": []
    },
    {
      "cell_type": "code",
      "metadata": {
        "id": "IyJrKLJDRmej"
      },
      "source": [
        "model = Sequential()\n",
        "model.add(Dense(45, activation=\"relu\", input_dim=9))\n",
        "model.add(Dense(30, activation=\"relu\"))\n",
        "model.add(Dense(25, activation=\"relu\"))\n",
        "model.add(Dense(22, activation=\"relu\"))\n",
        "model.add(Dense(18, activation=\"relu\"))\n",
        "model.add(Dense(15, activation=\"relu\"))\n",
        "model.add(Dense(10, activation=\"relu\"))\n",
        "model.add(Dense(8, activation=\"relu\"))\n",
        "model.add(Dense(6, activation=\"softmax\")) "
      ],
      "execution_count": 48,
      "outputs": []
    },
    {
      "cell_type": "code",
      "metadata": {
        "id": "Z_DA3sM1TfeY"
      },
      "source": [
        "model.compile(optimizer=\"adam\", loss=\"sparse_categorical_crossentropy\")"
      ],
      "execution_count": 49,
      "outputs": []
    },
    {
      "cell_type": "code",
      "metadata": {
        "colab": {
          "base_uri": "https://localhost:8080/"
        },
        "id": "WlkF6VdGThYb",
        "outputId": "b1203b5b-197d-4c48-8c52-1dac0acf66a8"
      },
      "source": [
        "model.fit(X_train_ss,y_train,epochs=300, batch_size=2)"
      ],
      "execution_count": 50,
      "outputs": [
        {
          "output_type": "stream",
          "text": [
            "Epoch 1/300\n",
            "86/86 [==============================] - 1s 2ms/step - loss: 1.7430\n",
            "Epoch 2/300\n",
            "86/86 [==============================] - 0s 2ms/step - loss: 1.4913\n",
            "Epoch 3/300\n",
            "86/86 [==============================] - 0s 2ms/step - loss: 1.2279\n",
            "Epoch 4/300\n",
            "86/86 [==============================] - 0s 2ms/step - loss: 1.1240\n",
            "Epoch 5/300\n",
            "86/86 [==============================] - 0s 2ms/step - loss: 1.0569\n",
            "Epoch 6/300\n",
            "86/86 [==============================] - 0s 2ms/step - loss: 1.0044\n",
            "Epoch 7/300\n",
            "86/86 [==============================] - 0s 2ms/step - loss: 0.9819\n",
            "Epoch 8/300\n",
            "86/86 [==============================] - 0s 2ms/step - loss: 0.9613\n",
            "Epoch 9/300\n",
            "86/86 [==============================] - 0s 2ms/step - loss: 0.9377\n",
            "Epoch 10/300\n",
            "86/86 [==============================] - 0s 2ms/step - loss: 0.9111\n",
            "Epoch 11/300\n",
            "86/86 [==============================] - 0s 2ms/step - loss: 0.8957\n",
            "Epoch 12/300\n",
            "86/86 [==============================] - 0s 2ms/step - loss: 0.8931\n",
            "Epoch 13/300\n",
            "86/86 [==============================] - 0s 2ms/step - loss: 0.8743\n",
            "Epoch 14/300\n",
            "86/86 [==============================] - 0s 2ms/step - loss: 0.8740\n",
            "Epoch 15/300\n",
            "86/86 [==============================] - 0s 2ms/step - loss: 0.8475\n",
            "Epoch 16/300\n",
            "86/86 [==============================] - 0s 2ms/step - loss: 0.8371\n",
            "Epoch 17/300\n",
            "86/86 [==============================] - 0s 2ms/step - loss: 0.8256\n",
            "Epoch 18/300\n",
            "86/86 [==============================] - 0s 2ms/step - loss: 0.8105\n",
            "Epoch 19/300\n",
            "86/86 [==============================] - 0s 2ms/step - loss: 0.8123\n",
            "Epoch 20/300\n",
            "86/86 [==============================] - 0s 2ms/step - loss: 0.8210\n",
            "Epoch 21/300\n",
            "86/86 [==============================] - 0s 2ms/step - loss: 0.8670\n",
            "Epoch 22/300\n",
            "86/86 [==============================] - 0s 2ms/step - loss: 0.8243\n",
            "Epoch 23/300\n",
            "86/86 [==============================] - 0s 2ms/step - loss: 0.7779\n",
            "Epoch 24/300\n",
            "86/86 [==============================] - 0s 2ms/step - loss: 0.7859\n",
            "Epoch 25/300\n",
            "86/86 [==============================] - 0s 2ms/step - loss: 0.7679\n",
            "Epoch 26/300\n",
            "86/86 [==============================] - 0s 2ms/step - loss: 0.7463\n",
            "Epoch 27/300\n",
            "86/86 [==============================] - 0s 2ms/step - loss: 0.7355\n",
            "Epoch 28/300\n",
            "86/86 [==============================] - 0s 2ms/step - loss: 0.7308\n",
            "Epoch 29/300\n",
            "86/86 [==============================] - 0s 2ms/step - loss: 0.7267\n",
            "Epoch 30/300\n",
            "86/86 [==============================] - 0s 2ms/step - loss: 0.7168\n",
            "Epoch 31/300\n",
            "86/86 [==============================] - 0s 2ms/step - loss: 0.7269\n",
            "Epoch 32/300\n",
            "86/86 [==============================] - 0s 2ms/step - loss: 0.7072\n",
            "Epoch 33/300\n",
            "86/86 [==============================] - 0s 2ms/step - loss: 0.7001\n",
            "Epoch 34/300\n",
            "86/86 [==============================] - 0s 2ms/step - loss: 0.7052\n",
            "Epoch 35/300\n",
            "86/86 [==============================] - 0s 2ms/step - loss: 0.8490\n",
            "Epoch 36/300\n",
            "86/86 [==============================] - 0s 2ms/step - loss: 0.7207\n",
            "Epoch 37/300\n",
            "86/86 [==============================] - 0s 2ms/step - loss: 0.6818\n",
            "Epoch 38/300\n",
            "86/86 [==============================] - 0s 2ms/step - loss: 0.6102\n",
            "Epoch 39/300\n",
            "86/86 [==============================] - 0s 2ms/step - loss: 0.5655\n",
            "Epoch 40/300\n",
            "86/86 [==============================] - 0s 2ms/step - loss: 0.5462\n",
            "Epoch 41/300\n",
            "86/86 [==============================] - 0s 2ms/step - loss: 0.5433\n",
            "Epoch 42/300\n",
            "86/86 [==============================] - 0s 2ms/step - loss: 0.5066\n",
            "Epoch 43/300\n",
            "86/86 [==============================] - 0s 2ms/step - loss: 0.4866\n",
            "Epoch 44/300\n",
            "86/86 [==============================] - 0s 2ms/step - loss: 0.4810\n",
            "Epoch 45/300\n",
            "86/86 [==============================] - 0s 2ms/step - loss: 0.4877\n",
            "Epoch 46/300\n",
            "86/86 [==============================] - 0s 2ms/step - loss: 0.4708\n",
            "Epoch 47/300\n",
            "86/86 [==============================] - 0s 2ms/step - loss: 0.4497\n",
            "Epoch 48/300\n",
            "86/86 [==============================] - 0s 2ms/step - loss: 0.4816\n",
            "Epoch 49/300\n",
            "86/86 [==============================] - 0s 2ms/step - loss: 0.4214\n",
            "Epoch 50/300\n",
            "86/86 [==============================] - 0s 2ms/step - loss: 0.4106\n",
            "Epoch 51/300\n",
            "86/86 [==============================] - 0s 2ms/step - loss: 0.4019\n",
            "Epoch 52/300\n",
            "86/86 [==============================] - 0s 2ms/step - loss: 0.3971\n",
            "Epoch 53/300\n",
            "86/86 [==============================] - 0s 2ms/step - loss: 0.4054\n",
            "Epoch 54/300\n",
            "86/86 [==============================] - 0s 2ms/step - loss: 0.4247\n",
            "Epoch 55/300\n",
            "86/86 [==============================] - 0s 2ms/step - loss: 0.3669\n",
            "Epoch 56/300\n",
            "86/86 [==============================] - 0s 2ms/step - loss: 0.3447\n",
            "Epoch 57/300\n",
            "86/86 [==============================] - 0s 2ms/step - loss: 0.3496\n",
            "Epoch 58/300\n",
            "86/86 [==============================] - 0s 2ms/step - loss: 0.5039\n",
            "Epoch 59/300\n",
            "86/86 [==============================] - 0s 2ms/step - loss: 0.3535\n",
            "Epoch 60/300\n",
            "86/86 [==============================] - 0s 2ms/step - loss: 0.3298\n",
            "Epoch 61/300\n",
            "86/86 [==============================] - 0s 2ms/step - loss: 0.3211\n",
            "Epoch 62/300\n",
            "86/86 [==============================] - 0s 2ms/step - loss: 0.3100\n",
            "Epoch 63/300\n",
            "86/86 [==============================] - 0s 2ms/step - loss: 0.2978\n",
            "Epoch 64/300\n",
            "86/86 [==============================] - 0s 2ms/step - loss: 0.3417\n",
            "Epoch 65/300\n",
            "86/86 [==============================] - 0s 2ms/step - loss: 0.3044\n",
            "Epoch 66/300\n",
            "86/86 [==============================] - 0s 2ms/step - loss: 0.3887\n",
            "Epoch 67/300\n",
            "86/86 [==============================] - 0s 2ms/step - loss: 0.3096\n",
            "Epoch 68/300\n",
            "86/86 [==============================] - 0s 2ms/step - loss: 0.3169\n",
            "Epoch 69/300\n",
            "86/86 [==============================] - 0s 2ms/step - loss: 0.2870\n",
            "Epoch 70/300\n",
            "86/86 [==============================] - 0s 2ms/step - loss: 0.2746\n",
            "Epoch 71/300\n",
            "86/86 [==============================] - 0s 2ms/step - loss: 0.2612\n",
            "Epoch 72/300\n",
            "86/86 [==============================] - 0s 2ms/step - loss: 0.2475\n",
            "Epoch 73/300\n",
            "86/86 [==============================] - 0s 2ms/step - loss: 0.2893\n",
            "Epoch 74/300\n",
            "86/86 [==============================] - 0s 2ms/step - loss: 0.2611\n",
            "Epoch 75/300\n",
            "86/86 [==============================] - 0s 2ms/step - loss: 0.4686\n",
            "Epoch 76/300\n",
            "86/86 [==============================] - 0s 2ms/step - loss: 0.2504\n",
            "Epoch 77/300\n",
            "86/86 [==============================] - 0s 2ms/step - loss: 0.2427\n",
            "Epoch 78/300\n",
            "86/86 [==============================] - 0s 2ms/step - loss: 0.2738\n",
            "Epoch 79/300\n",
            "86/86 [==============================] - 0s 2ms/step - loss: 0.2603\n",
            "Epoch 80/300\n",
            "86/86 [==============================] - 0s 2ms/step - loss: 0.1972\n",
            "Epoch 81/300\n",
            "86/86 [==============================] - 0s 2ms/step - loss: 0.2050\n",
            "Epoch 82/300\n",
            "86/86 [==============================] - 0s 2ms/step - loss: 0.1940\n",
            "Epoch 83/300\n",
            "86/86 [==============================] - 0s 2ms/step - loss: 0.2166\n",
            "Epoch 84/300\n",
            "86/86 [==============================] - 0s 2ms/step - loss: 0.2415\n",
            "Epoch 85/300\n",
            "86/86 [==============================] - 0s 2ms/step - loss: 0.1701\n",
            "Epoch 86/300\n",
            "86/86 [==============================] - 0s 2ms/step - loss: 0.1970\n",
            "Epoch 87/300\n",
            "86/86 [==============================] - 0s 2ms/step - loss: 0.2066\n",
            "Epoch 88/300\n",
            "86/86 [==============================] - 0s 2ms/step - loss: 0.2250\n",
            "Epoch 89/300\n",
            "86/86 [==============================] - 0s 2ms/step - loss: 0.2874\n",
            "Epoch 90/300\n",
            "86/86 [==============================] - 0s 2ms/step - loss: 0.2580\n",
            "Epoch 91/300\n",
            "86/86 [==============================] - 0s 2ms/step - loss: 0.2038\n",
            "Epoch 92/300\n",
            "86/86 [==============================] - 0s 2ms/step - loss: 0.1776\n",
            "Epoch 93/300\n",
            "86/86 [==============================] - 0s 2ms/step - loss: 0.1886\n",
            "Epoch 94/300\n",
            "86/86 [==============================] - 0s 2ms/step - loss: 0.1608\n",
            "Epoch 95/300\n",
            "86/86 [==============================] - 0s 2ms/step - loss: 0.1604\n",
            "Epoch 96/300\n",
            "86/86 [==============================] - 0s 2ms/step - loss: 0.1560\n",
            "Epoch 97/300\n",
            "86/86 [==============================] - 0s 2ms/step - loss: 0.1290\n",
            "Epoch 98/300\n",
            "86/86 [==============================] - 0s 2ms/step - loss: 0.1345\n",
            "Epoch 99/300\n",
            "86/86 [==============================] - 0s 2ms/step - loss: 0.1372\n",
            "Epoch 100/300\n",
            "86/86 [==============================] - 0s 2ms/step - loss: 0.2217\n",
            "Epoch 101/300\n",
            "86/86 [==============================] - 0s 2ms/step - loss: 0.1413\n",
            "Epoch 102/300\n",
            "86/86 [==============================] - 0s 2ms/step - loss: 0.1051\n",
            "Epoch 103/300\n",
            "86/86 [==============================] - 0s 2ms/step - loss: 0.1075\n",
            "Epoch 104/300\n",
            "86/86 [==============================] - 0s 2ms/step - loss: 0.1242\n",
            "Epoch 105/300\n",
            "86/86 [==============================] - 0s 2ms/step - loss: 0.0970\n",
            "Epoch 106/300\n",
            "86/86 [==============================] - 0s 2ms/step - loss: 0.1595\n",
            "Epoch 107/300\n",
            "86/86 [==============================] - 0s 2ms/step - loss: 0.0957\n",
            "Epoch 108/300\n",
            "86/86 [==============================] - 0s 2ms/step - loss: 0.0926\n",
            "Epoch 109/300\n",
            "86/86 [==============================] - 0s 2ms/step - loss: 0.0811\n",
            "Epoch 110/300\n",
            "86/86 [==============================] - 0s 2ms/step - loss: 0.0768\n",
            "Epoch 111/300\n",
            "86/86 [==============================] - 0s 2ms/step - loss: 0.0762\n",
            "Epoch 112/300\n",
            "86/86 [==============================] - 0s 2ms/step - loss: 0.0741\n",
            "Epoch 113/300\n",
            "86/86 [==============================] - 0s 2ms/step - loss: 0.0716\n",
            "Epoch 114/300\n",
            "86/86 [==============================] - 0s 2ms/step - loss: 0.0680\n",
            "Epoch 115/300\n",
            "86/86 [==============================] - 0s 2ms/step - loss: 0.0686\n",
            "Epoch 116/300\n",
            "86/86 [==============================] - 0s 2ms/step - loss: 0.0623\n",
            "Epoch 117/300\n",
            "86/86 [==============================] - 0s 2ms/step - loss: 0.0641\n",
            "Epoch 118/300\n",
            "86/86 [==============================] - 0s 2ms/step - loss: 0.0630\n",
            "Epoch 119/300\n",
            "86/86 [==============================] - 0s 2ms/step - loss: 0.0621\n",
            "Epoch 120/300\n",
            "86/86 [==============================] - 0s 2ms/step - loss: 0.0630\n",
            "Epoch 121/300\n",
            "86/86 [==============================] - 0s 2ms/step - loss: 0.0720\n",
            "Epoch 122/300\n",
            "86/86 [==============================] - 0s 2ms/step - loss: 0.0633\n",
            "Epoch 123/300\n",
            "86/86 [==============================] - 0s 2ms/step - loss: 0.1559\n",
            "Epoch 124/300\n",
            "86/86 [==============================] - 0s 2ms/step - loss: 0.3044\n",
            "Epoch 125/300\n",
            "86/86 [==============================] - 0s 2ms/step - loss: 0.6427\n",
            "Epoch 126/300\n",
            "86/86 [==============================] - 0s 2ms/step - loss: 0.4425\n",
            "Epoch 127/300\n",
            "86/86 [==============================] - 0s 2ms/step - loss: 0.3384\n",
            "Epoch 128/300\n",
            "86/86 [==============================] - 0s 2ms/step - loss: 0.0992\n",
            "Epoch 129/300\n",
            "86/86 [==============================] - 0s 2ms/step - loss: 0.0907\n",
            "Epoch 130/300\n",
            "86/86 [==============================] - 0s 2ms/step - loss: 0.0741\n",
            "Epoch 131/300\n",
            "86/86 [==============================] - 0s 2ms/step - loss: 0.0702\n",
            "Epoch 132/300\n",
            "86/86 [==============================] - 0s 2ms/step - loss: 0.0641\n",
            "Epoch 133/300\n",
            "86/86 [==============================] - 0s 2ms/step - loss: 0.0725\n",
            "Epoch 134/300\n",
            "86/86 [==============================] - 0s 2ms/step - loss: 0.0569\n",
            "Epoch 135/300\n",
            "86/86 [==============================] - 0s 2ms/step - loss: 0.0591\n",
            "Epoch 136/300\n",
            "86/86 [==============================] - 0s 2ms/step - loss: 0.0553\n",
            "Epoch 137/300\n",
            "86/86 [==============================] - 0s 2ms/step - loss: 0.0494\n",
            "Epoch 138/300\n",
            "86/86 [==============================] - 0s 2ms/step - loss: 0.0577\n",
            "Epoch 139/300\n",
            "86/86 [==============================] - 0s 3ms/step - loss: 0.0534\n",
            "Epoch 140/300\n",
            "86/86 [==============================] - 0s 2ms/step - loss: 0.0500\n",
            "Epoch 141/300\n",
            "86/86 [==============================] - 0s 2ms/step - loss: 0.0542\n",
            "Epoch 142/300\n",
            "86/86 [==============================] - 0s 2ms/step - loss: 0.0508\n",
            "Epoch 143/300\n",
            "86/86 [==============================] - 0s 2ms/step - loss: 0.0546\n",
            "Epoch 144/300\n",
            "86/86 [==============================] - 0s 3ms/step - loss: 0.0435\n",
            "Epoch 145/300\n",
            "86/86 [==============================] - 0s 3ms/step - loss: 0.0378\n",
            "Epoch 146/300\n",
            "86/86 [==============================] - 0s 3ms/step - loss: 0.0472\n",
            "Epoch 147/300\n",
            "86/86 [==============================] - 0s 2ms/step - loss: 0.0385\n",
            "Epoch 148/300\n",
            "86/86 [==============================] - 0s 2ms/step - loss: 0.1228\n",
            "Epoch 149/300\n",
            "86/86 [==============================] - 0s 3ms/step - loss: 0.1723\n",
            "Epoch 150/300\n",
            "86/86 [==============================] - 0s 2ms/step - loss: 0.4487\n",
            "Epoch 151/300\n",
            "86/86 [==============================] - 0s 2ms/step - loss: 0.1948\n",
            "Epoch 152/300\n",
            "86/86 [==============================] - 0s 2ms/step - loss: 0.0904\n",
            "Epoch 153/300\n",
            "86/86 [==============================] - 0s 2ms/step - loss: 0.0585\n",
            "Epoch 154/300\n",
            "86/86 [==============================] - 0s 2ms/step - loss: 0.0521\n",
            "Epoch 155/300\n",
            "86/86 [==============================] - 0s 2ms/step - loss: 0.0446\n",
            "Epoch 156/300\n",
            "86/86 [==============================] - 0s 2ms/step - loss: 0.0407\n",
            "Epoch 157/300\n",
            "86/86 [==============================] - 0s 2ms/step - loss: 0.0394\n",
            "Epoch 158/300\n",
            "86/86 [==============================] - 0s 2ms/step - loss: 0.0422\n",
            "Epoch 159/300\n",
            "86/86 [==============================] - 0s 2ms/step - loss: 0.0404\n",
            "Epoch 160/300\n",
            "86/86 [==============================] - 0s 2ms/step - loss: 0.0583\n",
            "Epoch 161/300\n",
            "86/86 [==============================] - 0s 2ms/step - loss: 0.0442\n",
            "Epoch 162/300\n",
            "86/86 [==============================] - 0s 2ms/step - loss: 0.0388\n",
            "Epoch 163/300\n",
            "86/86 [==============================] - 0s 2ms/step - loss: 0.0382\n",
            "Epoch 164/300\n",
            "86/86 [==============================] - 0s 2ms/step - loss: 0.0352\n",
            "Epoch 165/300\n",
            "86/86 [==============================] - 0s 2ms/step - loss: 0.0493\n",
            "Epoch 166/300\n",
            "86/86 [==============================] - 0s 2ms/step - loss: 0.0345\n",
            "Epoch 167/300\n",
            "86/86 [==============================] - 0s 2ms/step - loss: 0.0301\n",
            "Epoch 168/300\n",
            "86/86 [==============================] - 0s 2ms/step - loss: 0.0687\n",
            "Epoch 169/300\n",
            "86/86 [==============================] - 0s 2ms/step - loss: 0.0928\n",
            "Epoch 170/300\n",
            "86/86 [==============================] - 0s 2ms/step - loss: 0.1083\n",
            "Epoch 171/300\n",
            "86/86 [==============================] - 0s 2ms/step - loss: 0.0464\n",
            "Epoch 172/300\n",
            "86/86 [==============================] - 0s 2ms/step - loss: 0.0399\n",
            "Epoch 173/300\n",
            "86/86 [==============================] - 0s 2ms/step - loss: 0.0421\n",
            "Epoch 174/300\n",
            "86/86 [==============================] - 0s 2ms/step - loss: 0.7122\n",
            "Epoch 175/300\n",
            "86/86 [==============================] - 0s 2ms/step - loss: 0.1977\n",
            "Epoch 176/300\n",
            "86/86 [==============================] - 0s 2ms/step - loss: 0.0873\n",
            "Epoch 177/300\n",
            "86/86 [==============================] - 0s 2ms/step - loss: 0.0728\n",
            "Epoch 178/300\n",
            "86/86 [==============================] - 0s 2ms/step - loss: 0.0381\n",
            "Epoch 179/300\n",
            "86/86 [==============================] - 0s 2ms/step - loss: 0.0347\n",
            "Epoch 180/300\n",
            "86/86 [==============================] - 0s 2ms/step - loss: 0.0397\n",
            "Epoch 181/300\n",
            "86/86 [==============================] - 0s 2ms/step - loss: 0.0300\n",
            "Epoch 182/300\n",
            "86/86 [==============================] - 0s 2ms/step - loss: 0.0349\n",
            "Epoch 183/300\n",
            "86/86 [==============================] - 0s 2ms/step - loss: 0.0565\n",
            "Epoch 184/300\n",
            "86/86 [==============================] - 0s 2ms/step - loss: 0.1223\n",
            "Epoch 185/300\n",
            "86/86 [==============================] - 0s 2ms/step - loss: 0.1387\n",
            "Epoch 186/300\n",
            "86/86 [==============================] - 0s 2ms/step - loss: 0.0738\n",
            "Epoch 187/300\n",
            "86/86 [==============================] - 0s 2ms/step - loss: 0.0676\n",
            "Epoch 188/300\n",
            "86/86 [==============================] - 0s 2ms/step - loss: 0.0624\n",
            "Epoch 189/300\n",
            "86/86 [==============================] - 0s 2ms/step - loss: 0.0367\n",
            "Epoch 190/300\n",
            "86/86 [==============================] - 0s 2ms/step - loss: 0.0281\n",
            "Epoch 191/300\n",
            "86/86 [==============================] - 0s 2ms/step - loss: 0.0208\n",
            "Epoch 192/300\n",
            "86/86 [==============================] - 0s 2ms/step - loss: 0.0309\n",
            "Epoch 193/300\n",
            "86/86 [==============================] - 0s 2ms/step - loss: 0.0521\n",
            "Epoch 194/300\n",
            "86/86 [==============================] - 0s 2ms/step - loss: 0.0394\n",
            "Epoch 195/300\n",
            "86/86 [==============================] - 0s 2ms/step - loss: 0.0442\n",
            "Epoch 196/300\n",
            "86/86 [==============================] - 0s 2ms/step - loss: 0.0546\n",
            "Epoch 197/300\n",
            "86/86 [==============================] - 0s 2ms/step - loss: 0.0549\n",
            "Epoch 198/300\n",
            "86/86 [==============================] - 0s 2ms/step - loss: 0.0806\n",
            "Epoch 199/300\n",
            "86/86 [==============================] - 0s 2ms/step - loss: 0.0337\n",
            "Epoch 200/300\n",
            "86/86 [==============================] - 0s 2ms/step - loss: 0.0761\n",
            "Epoch 201/300\n",
            "86/86 [==============================] - 0s 2ms/step - loss: 0.0778\n",
            "Epoch 202/300\n",
            "86/86 [==============================] - 0s 2ms/step - loss: 0.0473\n",
            "Epoch 203/300\n",
            "86/86 [==============================] - 0s 2ms/step - loss: 0.0683\n",
            "Epoch 204/300\n",
            "86/86 [==============================] - 0s 2ms/step - loss: 0.1156\n",
            "Epoch 205/300\n",
            "86/86 [==============================] - 0s 2ms/step - loss: 0.2350\n",
            "Epoch 206/300\n",
            "86/86 [==============================] - 0s 2ms/step - loss: 0.0802\n",
            "Epoch 207/300\n",
            "86/86 [==============================] - 0s 2ms/step - loss: 0.0428\n",
            "Epoch 208/300\n",
            "86/86 [==============================] - 0s 2ms/step - loss: 0.1026\n",
            "Epoch 209/300\n",
            "86/86 [==============================] - 0s 2ms/step - loss: 0.0661\n",
            "Epoch 210/300\n",
            "86/86 [==============================] - 0s 2ms/step - loss: 0.0481\n",
            "Epoch 211/300\n",
            "86/86 [==============================] - 0s 2ms/step - loss: 0.0201\n",
            "Epoch 212/300\n",
            "86/86 [==============================] - 0s 2ms/step - loss: 0.0160\n",
            "Epoch 213/300\n",
            "86/86 [==============================] - 0s 2ms/step - loss: 0.0169\n",
            "Epoch 214/300\n",
            "86/86 [==============================] - 0s 2ms/step - loss: 0.0139\n",
            "Epoch 215/300\n",
            "86/86 [==============================] - 0s 2ms/step - loss: 0.0168\n",
            "Epoch 216/300\n",
            "86/86 [==============================] - 0s 2ms/step - loss: 0.0146\n",
            "Epoch 217/300\n",
            "86/86 [==============================] - 0s 2ms/step - loss: 0.0125\n",
            "Epoch 218/300\n",
            "86/86 [==============================] - 0s 2ms/step - loss: 0.0108\n",
            "Epoch 219/300\n",
            "86/86 [==============================] - 0s 2ms/step - loss: 0.0176\n",
            "Epoch 220/300\n",
            "86/86 [==============================] - 0s 2ms/step - loss: 0.0303\n",
            "Epoch 221/300\n",
            "86/86 [==============================] - 0s 2ms/step - loss: 0.0299\n",
            "Epoch 222/300\n",
            "86/86 [==============================] - 0s 2ms/step - loss: 0.0120\n",
            "Epoch 223/300\n",
            "86/86 [==============================] - 0s 2ms/step - loss: 0.0106\n",
            "Epoch 224/300\n",
            "86/86 [==============================] - 0s 2ms/step - loss: 0.0180\n",
            "Epoch 225/300\n",
            "86/86 [==============================] - 0s 2ms/step - loss: 0.0181\n",
            "Epoch 226/300\n",
            "86/86 [==============================] - 0s 2ms/step - loss: 0.0076\n",
            "Epoch 227/300\n",
            "86/86 [==============================] - 0s 2ms/step - loss: 0.0124\n",
            "Epoch 228/300\n",
            "86/86 [==============================] - 0s 2ms/step - loss: 0.0170\n",
            "Epoch 229/300\n",
            "86/86 [==============================] - 0s 2ms/step - loss: 0.0389\n",
            "Epoch 230/300\n",
            "86/86 [==============================] - 0s 2ms/step - loss: 0.1191\n",
            "Epoch 231/300\n",
            "86/86 [==============================] - 0s 2ms/step - loss: 0.3220\n",
            "Epoch 232/300\n",
            "86/86 [==============================] - 0s 2ms/step - loss: 0.3258\n",
            "Epoch 233/300\n",
            "86/86 [==============================] - 0s 2ms/step - loss: 0.1258\n",
            "Epoch 234/300\n",
            "86/86 [==============================] - 0s 2ms/step - loss: 0.3202\n",
            "Epoch 235/300\n",
            "86/86 [==============================] - 0s 2ms/step - loss: 0.0599\n",
            "Epoch 236/300\n",
            "86/86 [==============================] - 0s 2ms/step - loss: 0.0554\n",
            "Epoch 237/300\n",
            "86/86 [==============================] - 0s 2ms/step - loss: 0.0296\n",
            "Epoch 238/300\n",
            "86/86 [==============================] - 0s 2ms/step - loss: 0.0222\n",
            "Epoch 239/300\n",
            "86/86 [==============================] - 0s 2ms/step - loss: 0.0188\n",
            "Epoch 240/300\n",
            "86/86 [==============================] - 0s 2ms/step - loss: 0.0156\n",
            "Epoch 241/300\n",
            "86/86 [==============================] - 0s 2ms/step - loss: 0.0149\n",
            "Epoch 242/300\n",
            "86/86 [==============================] - 0s 2ms/step - loss: 0.0141\n",
            "Epoch 243/300\n",
            "86/86 [==============================] - 0s 2ms/step - loss: 0.0101\n",
            "Epoch 244/300\n",
            "86/86 [==============================] - 0s 2ms/step - loss: 0.0127\n",
            "Epoch 245/300\n",
            "86/86 [==============================] - 0s 2ms/step - loss: 0.0083\n",
            "Epoch 246/300\n",
            "86/86 [==============================] - 0s 2ms/step - loss: 0.0090\n",
            "Epoch 247/300\n",
            "86/86 [==============================] - 0s 2ms/step - loss: 0.0071\n",
            "Epoch 248/300\n",
            "86/86 [==============================] - 0s 2ms/step - loss: 0.0084\n",
            "Epoch 249/300\n",
            "86/86 [==============================] - 0s 2ms/step - loss: 0.1644\n",
            "Epoch 250/300\n",
            "86/86 [==============================] - 0s 2ms/step - loss: 0.0864\n",
            "Epoch 251/300\n",
            "86/86 [==============================] - 0s 2ms/step - loss: 0.0169\n",
            "Epoch 252/300\n",
            "86/86 [==============================] - 0s 2ms/step - loss: 0.0156\n",
            "Epoch 253/300\n",
            "86/86 [==============================] - 0s 2ms/step - loss: 0.0089\n",
            "Epoch 254/300\n",
            "86/86 [==============================] - 0s 2ms/step - loss: 0.0075\n",
            "Epoch 255/300\n",
            "86/86 [==============================] - 0s 2ms/step - loss: 0.0063\n",
            "Epoch 256/300\n",
            "86/86 [==============================] - 0s 2ms/step - loss: 0.0081\n",
            "Epoch 257/300\n",
            "86/86 [==============================] - 0s 2ms/step - loss: 0.0067\n",
            "Epoch 258/300\n",
            "86/86 [==============================] - 0s 2ms/step - loss: 0.0051\n",
            "Epoch 259/300\n",
            "86/86 [==============================] - 0s 2ms/step - loss: 0.0107\n",
            "Epoch 260/300\n",
            "86/86 [==============================] - 0s 2ms/step - loss: 0.0038\n",
            "Epoch 261/300\n",
            "86/86 [==============================] - 0s 2ms/step - loss: 0.0028\n",
            "Epoch 262/300\n",
            "86/86 [==============================] - 0s 2ms/step - loss: 0.0024\n",
            "Epoch 263/300\n",
            "86/86 [==============================] - 0s 2ms/step - loss: 0.0022\n",
            "Epoch 264/300\n",
            "86/86 [==============================] - 0s 2ms/step - loss: 0.0020\n",
            "Epoch 265/300\n",
            "86/86 [==============================] - 0s 2ms/step - loss: 0.0017\n",
            "Epoch 266/300\n",
            "86/86 [==============================] - 0s 2ms/step - loss: 0.0017\n",
            "Epoch 267/300\n",
            "86/86 [==============================] - 0s 2ms/step - loss: 0.0014\n",
            "Epoch 268/300\n",
            "86/86 [==============================] - 0s 2ms/step - loss: 0.0013\n",
            "Epoch 269/300\n",
            "86/86 [==============================] - 0s 2ms/step - loss: 0.0011\n",
            "Epoch 270/300\n",
            "86/86 [==============================] - 0s 2ms/step - loss: 0.0011\n",
            "Epoch 271/300\n",
            "86/86 [==============================] - 0s 2ms/step - loss: 0.0010\n",
            "Epoch 272/300\n",
            "86/86 [==============================] - 0s 2ms/step - loss: 8.7581e-04\n",
            "Epoch 273/300\n",
            "86/86 [==============================] - 0s 2ms/step - loss: 8.5630e-04\n",
            "Epoch 274/300\n",
            "86/86 [==============================] - 0s 2ms/step - loss: 7.5697e-04\n",
            "Epoch 275/300\n",
            "86/86 [==============================] - 0s 2ms/step - loss: 7.2001e-04\n",
            "Epoch 276/300\n",
            "86/86 [==============================] - 0s 2ms/step - loss: 6.4718e-04\n",
            "Epoch 277/300\n",
            "86/86 [==============================] - 0s 2ms/step - loss: 6.2387e-04\n",
            "Epoch 278/300\n",
            "86/86 [==============================] - 0s 2ms/step - loss: 5.8413e-04\n",
            "Epoch 279/300\n",
            "86/86 [==============================] - 0s 2ms/step - loss: 5.0800e-04\n",
            "Epoch 280/300\n",
            "86/86 [==============================] - 0s 2ms/step - loss: 4.8826e-04\n",
            "Epoch 281/300\n",
            "86/86 [==============================] - 0s 2ms/step - loss: 4.5074e-04\n",
            "Epoch 282/300\n",
            "86/86 [==============================] - 0s 2ms/step - loss: 4.5391e-04\n",
            "Epoch 283/300\n",
            "86/86 [==============================] - 0s 2ms/step - loss: 4.1929e-04\n",
            "Epoch 284/300\n",
            "86/86 [==============================] - 0s 2ms/step - loss: 3.8668e-04\n",
            "Epoch 285/300\n",
            "86/86 [==============================] - 0s 2ms/step - loss: 3.4121e-04\n",
            "Epoch 286/300\n",
            "86/86 [==============================] - 0s 2ms/step - loss: 3.4562e-04\n",
            "Epoch 287/300\n",
            "86/86 [==============================] - 0s 2ms/step - loss: 3.9686e-04\n",
            "Epoch 288/300\n",
            "86/86 [==============================] - 0s 2ms/step - loss: 0.0835\n",
            "Epoch 289/300\n",
            "86/86 [==============================] - 0s 2ms/step - loss: 0.6645\n",
            "Epoch 290/300\n",
            "86/86 [==============================] - 0s 2ms/step - loss: 0.3187\n",
            "Epoch 291/300\n",
            "86/86 [==============================] - 0s 2ms/step - loss: 0.1660\n",
            "Epoch 292/300\n",
            "86/86 [==============================] - 0s 2ms/step - loss: 0.0646\n",
            "Epoch 293/300\n",
            "86/86 [==============================] - 0s 2ms/step - loss: 0.3846\n",
            "Epoch 294/300\n",
            "86/86 [==============================] - 0s 2ms/step - loss: 0.0209\n",
            "Epoch 295/300\n",
            "86/86 [==============================] - 0s 2ms/step - loss: 0.0158\n",
            "Epoch 296/300\n",
            "86/86 [==============================] - 0s 2ms/step - loss: 0.0161\n",
            "Epoch 297/300\n",
            "86/86 [==============================] - 0s 2ms/step - loss: 0.0143\n",
            "Epoch 298/300\n",
            "86/86 [==============================] - 0s 2ms/step - loss: 0.0097\n",
            "Epoch 299/300\n",
            "86/86 [==============================] - 0s 2ms/step - loss: 0.0131\n",
            "Epoch 300/300\n",
            "86/86 [==============================] - 0s 2ms/step - loss: 0.0070\n"
          ],
          "name": "stdout"
        },
        {
          "output_type": "execute_result",
          "data": {
            "text/plain": [
              "<tensorflow.python.keras.callbacks.History at 0x7f41fe6df410>"
            ]
          },
          "metadata": {
            "tags": []
          },
          "execution_count": 50
        }
      ]
    },
    {
      "cell_type": "code",
      "metadata": {
        "id": "T-VvynfFTi-N"
      },
      "source": [
        "y_pred = model.predict(X_test_ss)"
      ],
      "execution_count": 51,
      "outputs": []
    },
    {
      "cell_type": "code",
      "metadata": {
        "id": "yhNXsb-3vC0S"
      },
      "source": [
        "y_pred = y_pred.argmax(axis=1)"
      ],
      "execution_count": 52,
      "outputs": []
    },
    {
      "cell_type": "code",
      "metadata": {
        "colab": {
          "base_uri": "https://localhost:8080/"
        },
        "id": "Hc1glcbfvIxR",
        "outputId": "2dba8f1b-2dc4-42e3-f0d1-cdee1e865eb6"
      },
      "source": [
        "from sklearn.metrics import classification_report\n",
        "print(classification_report(y_test,y_pred))"
      ],
      "execution_count": 53,
      "outputs": [
        {
          "output_type": "stream",
          "text": [
            "              precision    recall  f1-score   support\n",
            "\n",
            "           0       0.70      1.00      0.82        14\n",
            "           1       0.83      0.67      0.74        15\n",
            "           2       0.50      0.33      0.40         3\n",
            "           3       1.00      0.67      0.80         3\n",
            "           4       1.00      0.50      0.67         2\n",
            "           5       1.00      1.00      1.00         6\n",
            "\n",
            "    accuracy                           0.79        43\n",
            "   macro avg       0.84      0.69      0.74        43\n",
            "weighted avg       0.81      0.79      0.78        43\n",
            "\n"
          ],
          "name": "stdout"
        }
      ]
    },
    {
      "cell_type": "code",
      "metadata": {
        "id": "KXzm4rQpsV3s"
      },
      "source": [
        ""
      ],
      "execution_count": 53,
      "outputs": []
    }
  ]
}